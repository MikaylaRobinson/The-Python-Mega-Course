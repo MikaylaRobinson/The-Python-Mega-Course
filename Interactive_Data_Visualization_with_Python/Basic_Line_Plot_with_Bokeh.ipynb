{
 "cells": [
  {
   "cell_type": "code",
   "execution_count": 1,
   "metadata": {},
   "outputs": [],
   "source": [
    "from bokeh.plotting import figure\n",
    "from bokeh.io import output_file, show\n",
    "\n",
    "# Our data\n",
    "x = [1, 2, 3, 4, 5]\n",
    "y = [6, 7, 8, 9, 10]\n",
    "\n",
    "# Create the output file\n",
    "output_file(\"Line.html\")\n",
    "\n",
    "# Figure object\n",
    "f = figure()\n",
    "\n",
    "# Line plot\n",
    "f.line(x, y)\n",
    "\n",
    "show(f)"
   ]
  },
  {
   "cell_type": "code",
   "execution_count": 3,
   "metadata": {},
   "outputs": [],
   "source": [
    "# Example for triangle plot\n",
    "x = [3, 7.5, 10]\n",
    "y = [3, 6, 9]\n",
    "\n",
    "output_file(\"Triangle.html\")\n",
    "\n",
    "triangle = figure()\n",
    "\n",
    "triangle.triangle(x, y)\n",
    "\n",
    "show(triangle)"
   ]
  },
  {
   "cell_type": "code",
   "execution_count": 4,
   "metadata": {},
   "outputs": [],
   "source": [
    "# Example for circle plot\n",
    "x = [3, 7.5, 10]\n",
    "y = [3, 6, 9]\n",
    "\n",
    "output_file(\"Circle.html\")\n",
    "\n",
    "circle = figure()\n",
    "\n",
    "circle.circle(x, y)\n",
    "\n",
    "show(circle)"
   ]
  },
  {
   "cell_type": "code",
   "execution_count": 5,
   "metadata": {},
   "outputs": [],
   "source": [
    "# Bokeh along with pandas\n",
    "import pandas as pd\n",
    "\n",
    "# Our data\n",
    "df = pd.read_csv(\"data.csv\")\n",
    "x = df[\"x\"]\n",
    "y = df[\"y\"]\n",
    "\n",
    "# Create the output file\n",
    "output_file(\"Line_from_CSV.html\")\n",
    "\n",
    "# Figure object\n",
    "f = figure()\n",
    "\n",
    "# Line plot\n",
    "f.line(x, y)\n",
    "\n",
    "show(f)"
   ]
  },
  {
   "cell_type": "code",
   "execution_count": 8,
   "metadata": {},
   "outputs": [],
   "source": [
    "# Example for engineering bachelors degrees to women over time\n",
    "df = pd.read_csv(\"bachelors.csv\")\n",
    "x = df[\"Year\"]\n",
    "y = df[\"Engineering\"]\n",
    "\n",
    "output_file(\"Line_from_bachelors_csv.html\")\n",
    "\n",
    "f = figure()\n",
    "\n",
    "f.line(x, y)\n",
    "\n",
    "show(f)"
   ]
  },
  {
   "cell_type": "code",
   "execution_count": 12,
   "metadata": {},
   "outputs": [],
   "source": [
    "# Weather data example\n",
    "df = pd.read_excel(\"verlegenhuken.xlsx\")\n",
    "x = df[\"Temperature\"]\n",
    "y = df[\"Pressure\"]\n",
    "\n",
    "output_file(\"Scatter_of_Weather.html\")\n",
    "\n",
    "f = figure(plot_width = 500, plot_height = 400, tools = \"pan\")\n",
    "f.title.text = \"Temperature and Air Pressure\"\n",
    "f.title.text_color = \"Gray\"\n",
    "f.title.text_font_style = \"bold\"\n",
    "f.xaxis.minor_tick_line_color = None\n",
    "f.yaxis.minor_tick_line_color = None\n",
    "f.xaxis.axis_label = \"Temperature (°C)\"\n",
    "f.yaxis.axis_label = \"Pressure (hPa)\"\n",
    "\n",
    "f.circle(x/10, y/10, size = 0.5)\n",
    "\n",
    "show(f)"
   ]
  },
  {
   "cell_type": "code",
   "execution_count": 18,
   "metadata": {},
   "outputs": [],
   "source": [
    "df = pd.read_csv(\"adbe.csv\", parse_dates = [\"Date\"])\n",
    "\n",
    "p = figure(width = 500, height = 250, x_axis_type = \"datetime\", sizing_mode = \"scale_width\")\n",
    "\n",
    "p.line(df[\"Date\"], df[\"Close\"], color = \"Orange\", alpha = 0.5)\n",
    "\n",
    "output_file(\"Timeseries.html\")\n",
    "\n",
    "show(p)\n"
   ]
  },
  {
   "cell_type": "code",
   "execution_count": null,
   "metadata": {},
   "outputs": [],
   "source": []
  }
 ],
 "metadata": {
  "kernelspec": {
   "display_name": "Python 3",
   "language": "python",
   "name": "python3"
  },
  "language_info": {
   "codemirror_mode": {
    "name": "ipython",
    "version": 3
   },
   "file_extension": ".py",
   "mimetype": "text/x-python",
   "name": "python",
   "nbconvert_exporter": "python",
   "pygments_lexer": "ipython3",
   "version": "3.7.2"
  }
 },
 "nbformat": 4,
 "nbformat_minor": 2
}
